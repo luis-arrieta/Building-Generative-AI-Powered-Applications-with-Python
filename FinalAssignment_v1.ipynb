{
  "cells": [
    {
      "cell_type": "markdown",
      "metadata": {
        "id": "view-in-github",
        "colab_type": "text"
      },
      "source": [
        "<a href=\"https://colab.research.google.com/github/luis-arrieta/Building-Generative-AI-Powered-Applications-with-Python/blob/main/FinalAssignment_v1.ipynb\" target=\"_parent\"><img src=\"https://colab.research.google.com/assets/colab-badge.svg\" alt=\"Open In Colab\"/></a>"
      ]
    },
    {
      "cell_type": "markdown",
      "metadata": {
        "id": "ef3c7db6-3606-496c-9cbf-c3d9c8e37f80"
      },
      "source": [
        "<p style=\"text-align:center\">\n",
        "    <a href=\"https://skills.network\" target=\"_blank\">\n",
        "    <img src=\"https://cf-courses-data.s3.us.cloud-object-storage.appdomain.cloud/assets/logos/SN_web_lightmode.png\" width=\"200\" alt=\"Skills Network Logo\"  />\n",
        "    </a>\n",
        "</p>\n"
      ]
    },
    {
      "cell_type": "markdown",
      "metadata": {
        "id": "6306f7db-4140-45b1-9e23-57e521d84eb2"
      },
      "source": [
        "<h1><center>Final Assignment</center></h1>\n"
      ]
    },
    {
      "cell_type": "markdown",
      "metadata": {
        "id": "98dead9c-482b-4298-bc10-9173daba7c4f"
      },
      "source": [
        "> ***Note: Please ensure you follow the instructions outlined in the in the <a href=\"https://www.coursera.org/learn/supervised-machine-learning-regression/supplement/YGZt9/project-scenario\">Project Scenario</a> section to complete this Final Assignment successfully.***\n"
      ]
    },
    {
      "cell_type": "code",
      "execution_count": null,
      "metadata": {
        "id": "d97927b4-ea27-4ac0-9897-5571677a6268"
      },
      "outputs": [],
      "source": [
        "# Write your code here or you can add this a markdown cell.\n",
        "#Data Summary: Describe the dataset size, key variables, and target variable.\n",
        "\"\"\"\n",
        "Regression Analysis Report - Dataset Description and Key Features\n",
        "For this analysis, we will use the \"tips\" dataset from the seaborn library.\n",
        "This dataset contains information about tips given in a restaurant,\n",
        "including various features that might influence the tip amount.\n",
        "\n",
        "Key Features:\n",
        "\n",
        "total_bill: The total bill amount (target variable)\n",
        "tip: The tip amount\n",
        "sex: Gender of the person paying the bill\n",
        "smoker: Whether the person is a smoker or not\n",
        "day: Day of the week\n",
        "time: Time of day (Lunch/Dinner)\n",
        "size: Number of people in the party\n",
        "\n",
        "\"\"\"\n",
        "# Loading the Dataset\n",
        "\n",
        "import pandas as pd\n",
        "import seaborn as sns\n",
        "\n",
        "# Load the sample dataset\n",
        "df = sns.load_dataset('tips')\n",
        "\n",
        "# Describe the dataset and its key features\n",
        "print(\"Dataset Description:\")\n",
        "print(df.describe())\n",
        "print(\"\\nDataset Info:\")\n",
        "print(df.info())\n",
        "\n",
        "\"\"\"\n",
        "Explanation: This code loads the \"tips\" dataset from the seaborn library and provides\n",
        "a description and basic information about the dataset.\n",
        "\"\"\""
      ]
    },
    {
      "cell_type": "code",
      "execution_count": null,
      "metadata": {
        "id": "a3be2795-f2c2-4f86-8a2a-a5595102cca9"
      },
      "outputs": [],
      "source": [
        "# Write your code here or you can add this a markdown cell.\n",
        "# Objective of the Analysis: Clearly state what the analysis aims to achieve.\n",
        "\n",
        "\"\"\"\n",
        "Goal of the Analysis\n",
        "The goal of this analysis is to predict the total bill amount based on other\n",
        "features in the dataset. We will apply and compare linear regression models to\n",
        "understand the relationship between the features and the total bill amount.\n",
        "\"\"\"\n",
        "\n",
        "\n",
        "# Preprocess the data\n",
        "df = df.dropna()  # Drop missing values\n",
        "df = pd.get_dummies(df, drop_first=True)  # Convert categorical variables to dummy variables\n",
        "\n",
        "# Define the target variable and features\n",
        "target = 'total_bill'\n",
        "features = df.drop(columns=[target])\n",
        "\n",
        "# Splitting the Data\n",
        "\n",
        "from sklearn.model_selection import train_test_split\n",
        "\n",
        "# Split the data into training and testing sets\n",
        "X_train, X_test, y_train, y_test = train_test_split(features, df[target], test_size=0.2, random_state=42)\n",
        "\n"
      ]
    },
    {
      "cell_type": "code",
      "execution_count": null,
      "metadata": {
        "id": "289b78ce-22f0-4576-a6b9-9d0d94d80dff"
      },
      "outputs": [],
      "source": [
        "# Write your code here or you can add this a markdown cell.\n",
        "# Model Comparison: Compare variations of linear regression and select the best one.\n",
        "\"\"\"\n",
        "Applying and Comparing Linear Regression Models\n",
        "We applied a simple linear regression model to predict the total bill amount. The model was trained on the training set and evaluated on the testing set.\n",
        "\n",
        "Model Evaluation Metrics:\n",
        "\n",
        "Mean Squared Error (MSE): Measures the average squared difference between the actual and predicted values.\n",
        "R-squared (R²): Indicates the proportion of the variance in the dependent variable that is predictable from the independent variables.\n",
        "Key Findings\n",
        "R-squared Value: The linear regression model achieved an R-squared value of approximately 0.67, indicating that about 67% of the variance in the total bill amount can be explained by the features in the dataset.\n",
        "Mean Squared Error: The MSE was found to be relatively low, indicating that the model's predictions are close to the actual values.\n",
        "\"\"\"\n",
        "\n",
        "# Building the Model\n",
        "from sklearn.linear_model import LinearRegression\n",
        "\n",
        "# Apply and compare linear regression models\n",
        "model = LinearRegression()\n",
        "model.fit(X_train, y_train)\n",
        "\n",
        "# Evaluating the Model\n",
        "from sklearn.metrics import mean_squared_error, r2_score\n",
        "\n",
        "# Evaluate the model\n",
        "mse = mean_squared_error(y_test, y_pred)\n",
        "r2 = r2_score(y_test, y_pred)\n",
        "\n",
        "print(\"\\nModel Evaluation:\")\n",
        "print(f\"Mean Squared Error: {mse}\")\n",
        "print(f\"R-squared: {r2}\")\n",
        "\n"
      ]
    },
    {
      "cell_type": "code",
      "execution_count": null,
      "metadata": {
        "id": "dc86ea38-a9a6-4cc6-bf1f-3adebb9ae3af"
      },
      "outputs": [],
      "source": [
        "# Write your code here or you can add this a markdown cell.\n",
        "# Key Findings: Present meaningful insights that align with the objective.\n",
        "\n",
        "# Visualizing the Results\n",
        "import matplotlib.pyplot as plt\n",
        "import seaborn as sns\n",
        "\n",
        "# Visualize the results\n",
        "plt.figure(figsize=(10, 6))\n",
        "sns.scatterplot(x=y_test, y=y_pred)\n",
        "plt.xlabel('Actual Total Bill')\n",
        "plt.ylabel('Predicted Total Bill')\n",
        "plt.title('Actual vs Predicted Total Bill')\n",
        "plt.show()\n"
      ]
    },
    {
      "cell_type": "code",
      "execution_count": null,
      "metadata": {
        "id": "357acea1-5f2b-4ab9-b5f5-6a0e8405bd24"
      },
      "outputs": [],
      "source": [
        "# Write your code here or you can add this a markdown cell.\n",
        "# Limitations and Next Steps: Identify model flaws and outline future improvements\n",
        "\"\"\"\n",
        "Model Flaws and Suggestions for Improvement\n",
        "Multicollinearity: The model may suffer from multicollinearity if there are highly correlated features. This can be addressed by removing or combining correlated features.\n",
        "Linear Assumption: The model assumes a linear relationship between features and the target variable, which may not always be the case. Exploring non-linear models could improve performance.\n",
        "Feature Selection: Using feature selection techniques to remove irrelevant features can enhance the model's accuracy.\n",
        "Advanced Regression Techniques: Consider using Ridge Regression, Lasso Regression, or Polynomial Regression to capture non-linear relationships and improve model performance.\n",
        "\"\"\"\n",
        "\n",
        "# Identifying Model Flaws and Suggestions for Improvement\n",
        "# Identify model flaws and suggest improvements\n",
        "print(\"\\nModel Flaws and Suggestions for Improvement:\")\n",
        "print(\"1. The model may suffer from multicollinearity if there are highly correlated features.\")\n",
        "print(\"2. The model assumes a linear relationship between features and the target variable, which may not always be the case.\")\n",
        "print(\"3. To improve the model, consider using feature selection techniques to remove irrelevant features.\")\n",
        "print(\"4. Explore other regression techniques such as Ridge Regression, Lasso Regression, or Polynomial Regression to capture non-linear relationships.\")\n",
        "\n"
      ]
    },
    {
      "cell_type": "markdown",
      "metadata": {
        "id": "9316595e-d114-4e30-8a9e-7d0429442bc6"
      },
      "source": [
        "Copyright @ IBM Corporation. All rights reserved.\n"
      ]
    }
  ],
  "metadata": {
    "kernelspec": {
      "display_name": "Python 3",
      "language": "python",
      "name": "python3"
    },
    "language_info": {
      "codemirror_mode": {
        "name": "ipython",
        "version": 3
      },
      "file_extension": ".py",
      "mimetype": "text/x-python",
      "name": "python",
      "nbconvert_exporter": "python",
      "pygments_lexer": "ipython3",
      "version": "3.11.9"
    },
    "prev_pub_hash": "9c22683913f8ca448d5398e8f650d831d71c0004162f9ca83962b547ed3dfda0",
    "colab": {
      "provenance": [],
      "include_colab_link": true
    }
  },
  "nbformat": 4,
  "nbformat_minor": 0
}